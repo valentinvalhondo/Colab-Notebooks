{
  "nbformat": 4,
  "nbformat_minor": 0,
  "metadata": {
    "colab": {
      "name": "NumPy Basics",
      "provenance": [],
      "authorship_tag": "ABX9TyNXbLWaMXG1lbJbGIInC3Xm",
      "include_colab_link": true
    },
    "kernelspec": {
      "name": "python3",
      "display_name": "Python 3"
    }
  },
  "cells": [
    {
      "cell_type": "markdown",
      "metadata": {
        "id": "view-in-github",
        "colab_type": "text"
      },
      "source": [
        "<a href=\"https://colab.research.google.com/github/valentinvalhondo/Colab-Notebooks/blob/main/NumPy_Basics.ipynb\" target=\"_parent\"><img src=\"https://colab.research.google.com/assets/colab-badge.svg\" alt=\"Open In Colab\"/></a>"
      ]
    },
    {
      "cell_type": "markdown",
      "metadata": {
        "id": "mxFQkb_CvuWz"
      },
      "source": [
        "NumPy is a Python library for creating and manipulating vectors and matrices. "
      ]
    },
    {
      "cell_type": "code",
      "metadata": {
        "id": "QwHnBJxDs0V8"
      },
      "source": [
        "import numpy as np"
      ],
      "execution_count": null,
      "outputs": []
    },
    {
      "cell_type": "code",
      "metadata": {
        "id": "WenX_ngYwSQn",
        "colab": {
          "base_uri": "https://localhost:8080/",
          "height": 34
        },
        "outputId": "3a366a0f-142d-4111-a88b-b2eae1d82ddc"
      },
      "source": [
        "print(np.array([1.1, 2.2, 3.3, 4.4, 5.5]))"
      ],
      "execution_count": null,
      "outputs": [
        {
          "output_type": "stream",
          "text": [
            "[1.1 2.2 3.3 4.4 5.5]\n"
          ],
          "name": "stdout"
        }
      ]
    },
    {
      "cell_type": "code",
      "metadata": {
        "id": "TX1v0KWVwzv4",
        "colab": {
          "base_uri": "https://localhost:8080/",
          "height": 68
        },
        "outputId": "f47b2a0d-4c90-4ef7-f694-23d24f34fd71"
      },
      "source": [
        "print(np.array([[11, 12, 13], [21, 22, 23], [31, 32, 33]]))"
      ],
      "execution_count": null,
      "outputs": [
        {
          "output_type": "stream",
          "text": [
            "[[11 12 13]\n",
            " [21 22 23]\n",
            " [31 32 33]]\n"
          ],
          "name": "stdout"
        }
      ]
    },
    {
      "cell_type": "code",
      "metadata": {
        "id": "0Ik6AXVZw0Y8"
      },
      "source": [
        "tensor = np.zeros((2,3,4), dtype=int)"
      ],
      "execution_count": null,
      "outputs": []
    },
    {
      "cell_type": "code",
      "metadata": {
        "id": "0pXbzxVLxMN1",
        "colab": {
          "base_uri": "https://localhost:8080/",
          "height": 136
        },
        "outputId": "24b28dfb-b3f4-4efd-8596-0b83785e33f0"
      },
      "source": [
        "tensor[1][1] = [1, 2, 3, 4]\n",
        "print(tensor)"
      ],
      "execution_count": null,
      "outputs": [
        {
          "output_type": "stream",
          "text": [
            "[[[0 0 0 0]\n",
            "  [0 0 0 0]\n",
            "  [0 0 0 0]]\n",
            "\n",
            " [[0 0 0 0]\n",
            "  [1 2 3 4]\n",
            "  [0 0 0 0]]]\n"
          ],
          "name": "stdout"
        }
      ]
    },
    {
      "cell_type": "code",
      "metadata": {
        "id": "OnEYxQTqx_cC",
        "colab": {
          "base_uri": "https://localhost:8080/",
          "height": 51
        },
        "outputId": "95c7ade5-7b55-4103-e26d-361027ecffd4"
      },
      "source": [
        "# Populate matrices with random numbers across certain ranges\n",
        "print(np.random.randint(low=50, high=101, size=(6)))\n",
        "# To create random floating-point values between 0.0 and 1.0, call\n",
        "print(np.random.random([6]))"
      ],
      "execution_count": null,
      "outputs": [
        {
          "output_type": "stream",
          "text": [
            "[100  82  68  84  77  84]\n",
            "[0.79936462 0.23301399 0.47291583 0.52631691 0.77648789 0.68892372]\n"
          ],
          "name": "stdout"
        }
      ]
    },
    {
      "cell_type": "code",
      "metadata": {
        "id": "iKbQEJvDyrWK",
        "colab": {
          "base_uri": "https://localhost:8080/",
          "height": 119
        },
        "outputId": "95a773c7-e564-4273-93cb-5928f10c3c47"
      },
      "source": [
        "matrix_2x3 = np.arange(1, 7).reshape(2, 3)\n",
        "print(matrix_2x3)\n",
        "print('-')\n",
        "matrix_3x1 = np.arange(7, 10).reshape(3, 1)\n",
        "print(matrix_3x1)"
      ],
      "execution_count": null,
      "outputs": [
        {
          "output_type": "stream",
          "text": [
            "[[1 2 3]\n",
            " [4 5 6]]\n",
            "-\n",
            "[[7]\n",
            " [8]\n",
            " [9]]\n"
          ],
          "name": "stdout"
        }
      ]
    },
    {
      "cell_type": "code",
      "metadata": {
        "id": "iwnGDeP03r1Q",
        "colab": {
          "base_uri": "https://localhost:8080/",
          "height": 68
        },
        "outputId": "5b497bde-1fea-4997-c38a-8e679bbdb23b"
      },
      "source": [
        "matrix_3x1 ** 2"
      ],
      "execution_count": null,
      "outputs": [
        {
          "output_type": "execute_result",
          "data": {
            "text/plain": [
              "array([[49],\n",
              "       [64],\n",
              "       [81]])"
            ]
          },
          "metadata": {
            "tags": []
          },
          "execution_count": 120
        }
      ]
    },
    {
      "cell_type": "code",
      "metadata": {
        "id": "YCE3B_kb2Sb_",
        "colab": {
          "base_uri": "https://localhost:8080/",
          "height": 51
        },
        "outputId": "f23f39fe-3ad8-4c93-88ef-74b1a45ad8b7"
      },
      "source": [
        "# Compatible matrix product ( use @ or .dot(B) )\n",
        "matrix_2x1 = matrix_2x3 @ matrix_3x1\n",
        "print(matrix_2x1)"
      ],
      "execution_count": null,
      "outputs": [
        {
          "output_type": "stream",
          "text": [
            "[[ 50]\n",
            " [122]]\n"
          ],
          "name": "stdout"
        }
      ]
    },
    {
      "cell_type": "code",
      "metadata": {
        "id": "TnzM1oZO31y6",
        "colab": {
          "base_uri": "https://localhost:8080/",
          "height": 68
        },
        "outputId": "5e59c7c7-3f7f-4f3b-ae17-a659a8b8406f"
      },
      "source": [
        "# Operations with matrices\n",
        "matrix_2x3.max()\n",
        "matrix_2x3.sum()\n",
        "matrix_2x3.sum(axis=1)\n",
        "matrix_2x3.min()\n",
        "# Transposition \n",
        "matrix_2x3.T\n",
        "# a.*b (matlab) = a*b (numpy)\n",
        "# a./b (matlab) = a/b (numpy)\n",
        "# a.^3 (matlab) = a**3 (numpy)\n",
        "# inv(a) (matlab) = linalg.inv(a) (python)\n",
        "# a\\b (matlab) = linalg.solve(a,b) (python)"
      ],
      "execution_count": null,
      "outputs": [
        {
          "output_type": "execute_result",
          "data": {
            "text/plain": [
              "array([[1, 4],\n",
              "       [2, 5],\n",
              "       [3, 6]])"
            ]
          },
          "metadata": {
            "tags": []
          },
          "execution_count": 122
        }
      ]
    },
    {
      "cell_type": "code",
      "metadata": {
        "id": "6VeUHbrP4ZJA",
        "colab": {
          "base_uri": "https://localhost:8080/",
          "height": 51
        },
        "outputId": "2de8ad8e-29ee-401f-9499-0a5732dee996"
      },
      "source": [
        "# Universal functions\n",
        "np.exp(matrix_2x3)\n",
        "np.sqrt(matrix_2x3)\n"
      ],
      "execution_count": null,
      "outputs": [
        {
          "output_type": "execute_result",
          "data": {
            "text/plain": [
              "array([[1.        , 1.41421356, 1.73205081],\n",
              "       [2.        , 2.23606798, 2.44948974]])"
            ]
          },
          "metadata": {
            "tags": []
          },
          "execution_count": 123
        }
      ]
    },
    {
      "cell_type": "markdown",
      "metadata": {
        "id": "DueSp50R5R34"
      },
      "source": [
        "#Copies and Views\n",
        "\n",
        "When operating and manipulating arrays, their data is sometimes copied into a new array and sometimes not. This is often a source of confusion for beginners. There are three cases:\n"
      ]
    },
    {
      "cell_type": "code",
      "metadata": {
        "id": "Y0UuimPa5Xjw",
        "colab": {
          "base_uri": "https://localhost:8080/",
          "height": 51
        },
        "outputId": "0b2cc937-8c82-46d6-8f0c-298a638e90af"
      },
      "source": [
        "# No Copy at All - Simple assignments make no copy of objects or their data.\n",
        "A = np.array([1.1, 2.2, 3.3, 4.4, 5.5, 6.6])\n",
        "B = A\n",
        "B is A # A and B are two names for the same array object\n",
        "print(A)\n",
        "B[1] = 5\n",
        "print(A)\n",
        "# Python passes mutable objects as references, so function calls make no copy."
      ],
      "execution_count": null,
      "outputs": [
        {
          "output_type": "stream",
          "text": [
            "[1.1 2.2 3.3 4.4 5.5 6.6]\n",
            "[1.1 5.  3.3 4.4 5.5 6.6]\n"
          ],
          "name": "stdout"
        }
      ]
    },
    {
      "cell_type": "code",
      "metadata": {
        "id": "Ua-cnXw25u27",
        "colab": {
          "base_uri": "https://localhost:8080/",
          "height": 34
        },
        "outputId": "8613ac0b-ba68-4b0d-ff5e-8e6c264b3886"
      },
      "source": [
        "# View or Shallow Copy - Different array objects can share the same data. \n",
        "# The view method creates a new array object that looks at the same data.\n",
        "\n",
        "C = A.view()\n",
        "C is A"
      ],
      "execution_count": null,
      "outputs": [
        {
          "output_type": "execute_result",
          "data": {
            "text/plain": [
              "False"
            ]
          },
          "metadata": {
            "tags": []
          },
          "execution_count": 125
        }
      ]
    },
    {
      "cell_type": "code",
      "metadata": {
        "id": "yTGxsTS76BeY",
        "colab": {
          "base_uri": "https://localhost:8080/",
          "height": 34
        },
        "outputId": "63277546-a306-4e9c-86e4-a022951d1421"
      },
      "source": [
        "C.base is A # C is a view of the data owned by A"
      ],
      "execution_count": null,
      "outputs": [
        {
          "output_type": "execute_result",
          "data": {
            "text/plain": [
              "True"
            ]
          },
          "metadata": {
            "tags": []
          },
          "execution_count": 126
        }
      ]
    },
    {
      "cell_type": "code",
      "metadata": {
        "id": "r2_WKtJA6JV7",
        "colab": {
          "base_uri": "https://localhost:8080/",
          "height": 51
        },
        "outputId": "d5f3e0ad-d50d-4822-c1c6-3a0758c35f9a"
      },
      "source": [
        "# A's shape doesn't change\n",
        "C = C.reshape((2, 3))\n",
        "print(C.shape, ' C vs A ', A.shape)\n",
        "# A's data changes\n",
        "C[(1,2)] = 0\n",
        "print(A)"
      ],
      "execution_count": null,
      "outputs": [
        {
          "output_type": "stream",
          "text": [
            "(2, 3)  C vs A  (6,)\n",
            "[1.1 5.  3.3 4.4 5.5 0. ]\n"
          ],
          "name": "stdout"
        }
      ]
    },
    {
      "cell_type": "code",
      "metadata": {
        "id": "YBWlHu3O7C4U",
        "colab": {
          "base_uri": "https://localhost:8080/",
          "height": 51
        },
        "outputId": "31931ed1-5c0b-4ac3-c64b-79345c80441a"
      },
      "source": [
        "# Deep Copy - The copy method makes a complete copy of the array and its data.\n",
        "A = np.array([1.1, 2.2, 3.3, 4.4, 5.5, 6.6])\n",
        "D = A.copy()\n",
        "print(D is A)\n",
        "print(D.base is A)\n",
        "# Both are false, because D doesn't share anything with A"
      ],
      "execution_count": null,
      "outputs": [
        {
          "output_type": "stream",
          "text": [
            "False\n",
            "False\n"
          ],
          "name": "stdout"
        }
      ]
    },
    {
      "cell_type": "code",
      "metadata": {
        "id": "yJg1QE4z8YrK"
      },
      "source": [
        "# Sometimes copy should be called after slicing if the original array\n",
        "#  is not required anymore\n",
        "a = np.arange(int(1e8))\n",
        "b = a[:100].copy()\n",
        "del a  # the memory of ``a`` can be released."
      ],
      "execution_count": null,
      "outputs": []
    },
    {
      "cell_type": "markdown",
      "metadata": {
        "id": "CL5epGxn-0Ep"
      },
      "source": [
        "# Exercises for NumPy codelab for ML course"
      ]
    },
    {
      "cell_type": "code",
      "metadata": {
        "id": "woctufjz-57K",
        "colab": {
          "base_uri": "https://localhost:8080/",
          "height": 51
        },
        "outputId": "afc5dc0b-ba13-40dd-856b-4cd3211892a6"
      },
      "source": [
        "# Task 1\n",
        "feature = np.arange(6,21)\n",
        "print(feature)\n",
        "label = 3 * feature + 4\n",
        "print(label)"
      ],
      "execution_count": null,
      "outputs": [
        {
          "output_type": "stream",
          "text": [
            "[ 6  7  8  9 10 11 12 13 14 15 16 17 18 19 20]\n",
            "[22 25 28 31 34 37 40 43 46 49 52 55 58 61 64]\n"
          ],
          "name": "stdout"
        }
      ]
    },
    {
      "cell_type": "code",
      "metadata": {
        "id": "U2MbrGQa_h_I",
        "colab": {
          "base_uri": "https://localhost:8080/",
          "height": 119
        },
        "outputId": "5edf9a52-d0f2-469d-9a53-c9237d70e25b"
      },
      "source": [
        "# Task 2\n",
        "noise = (np.random.random([label.size]) * 4) - 2\n",
        "print(noise)\n",
        "label = label + noise\n",
        "print(label)"
      ],
      "execution_count": null,
      "outputs": [
        {
          "output_type": "stream",
          "text": [
            "[ 0.09549756 -1.0622287  -1.25902666 -0.4832493   1.4965093   1.9994388\n",
            "  0.53596482  1.42083821  0.20779989 -0.55961939 -1.06222261  1.01382964\n",
            " -1.44014506  0.22403746 -1.16743376]\n",
            "[22.09549756 23.9377713  26.74097334 30.5167507  35.4965093  38.9994388\n",
            " 40.53596482 44.42083821 46.20779989 48.44038061 50.93777739 56.01382964\n",
            " 56.55985494 61.22403746 62.83256624]\n"
          ],
          "name": "stdout"
        }
      ]
    },
    {
      "cell_type": "code",
      "metadata": {
        "id": "iMPMBGIyAeoe"
      },
      "source": [
        ""
      ],
      "execution_count": null,
      "outputs": []
    }
  ]
}