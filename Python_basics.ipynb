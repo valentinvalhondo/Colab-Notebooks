{
  "nbformat": 4,
  "nbformat_minor": 0,
  "metadata": {
    "colab": {
      "name": "Python basics",
      "provenance": [],
      "collapsed_sections": [],
      "authorship_tag": "ABX9TyMzYU+gua7yw9SG2MqlaJOx",
      "include_colab_link": true
    },
    "kernelspec": {
      "name": "python3",
      "display_name": "Python 3"
    }
  },
  "cells": [
    {
      "cell_type": "markdown",
      "metadata": {
        "id": "view-in-github",
        "colab_type": "text"
      },
      "source": [
        "<a href=\"https://colab.research.google.com/github/valentinvalhondo/Colab-Notebooks/blob/main/Python_basics.ipynb\" target=\"_parent\"><img src=\"https://colab.research.google.com/assets/colab-badge.svg\" alt=\"Open In Colab\"/></a>"
      ]
    },
    {
      "cell_type": "code",
      "metadata": {
        "id": "d-AM7QpMS1AN"
      },
      "source": [
        "import numpy as np"
      ],
      "execution_count": null,
      "outputs": []
    },
    {
      "cell_type": "markdown",
      "metadata": {
        "id": "zbc0lArdRn39"
      },
      "source": [
        "**Creating Functions**"
      ]
    },
    {
      "cell_type": "code",
      "metadata": {
        "id": "-goXpD1ZRl0W"
      },
      "source": [
        "def isNumberPair(n):\n",
        "  \"\"\"Return a boolean indicating if a number is pair.\"\"\"\n",
        "  return n % 2 == 0"
      ],
      "execution_count": null,
      "outputs": []
    },
    {
      "cell_type": "code",
      "metadata": {
        "id": "j0WDZAFBSSyy",
        "colab": {
          "base_uri": "https://localhost:8080/",
          "height": 51
        },
        "outputId": "2a60f10f-7975-475f-921c-2119f811bedb"
      },
      "source": [
        "N = np.linspace(0,10,11)\n",
        "isNumberPair(N)"
      ],
      "execution_count": null,
      "outputs": [
        {
          "output_type": "execute_result",
          "data": {
            "text/plain": [
              "array([ True, False,  True, False,  True, False,  True, False,  True,\n",
              "       False,  True])"
            ]
          },
          "metadata": {
            "tags": []
          },
          "execution_count": 26
        }
      ]
    },
    {
      "cell_type": "code",
      "metadata": {
        "id": "5cs9bCmzTfDs"
      },
      "source": [
        "def fib(n):\n",
        "  \"\"\"Return the fibonacci sequence until number n\"\"\"\n",
        "\n",
        "  if ((n < 0) | ((n % 1) != 0)):\n",
        "    # Bad number - discard it\n",
        "    return False\n",
        "\n",
        "  if n == 0:\n",
        "    return [0]\n",
        "\n",
        "  t1, t2 = 0, 1\n",
        "  fibo = []\n",
        "\n",
        "  while t1 <= n:\n",
        "    fibo.append(t1)\n",
        "    t1, t2 = t2, t1 + t2\n",
        "\n",
        "  return fibo\n"
      ],
      "execution_count": null,
      "outputs": []
    },
    {
      "cell_type": "code",
      "metadata": {
        "id": "UGGkq5ZRU8nG",
        "colab": {
          "base_uri": "https://localhost:8080/",
          "height": 34
        },
        "outputId": "2c58e22e-5e8f-492f-fdc2-cdf3661acfe6"
      },
      "source": [
        "# Testing my function with good and bad numbers\n",
        "N = (-1, 0, 1, 2, 0.5)\n",
        "list(map(fib,N))"
      ],
      "execution_count": null,
      "outputs": [
        {
          "output_type": "execute_result",
          "data": {
            "text/plain": [
              "[False, [0], [0, 1, 1], [0, 1, 1, 2], False]"
            ]
          },
          "metadata": {
            "tags": []
          },
          "execution_count": 87
        }
      ]
    },
    {
      "cell_type": "code",
      "metadata": {
        "id": "RnJGNpbGXJHN",
        "colab": {
          "base_uri": "https://localhost:8080/",
          "height": 51
        },
        "outputId": "f7c57568-ed05-4a3b-a445-3251b0c931c3"
      },
      "source": [
        "print(fib(10))\n",
        "print(fib(100))"
      ],
      "execution_count": null,
      "outputs": [
        {
          "output_type": "stream",
          "text": [
            "[0, 1, 1, 2, 3, 5, 8]\n",
            "[0, 1, 1, 2, 3, 5, 8, 13, 21, 34, 55, 89]\n"
          ],
          "name": "stdout"
        }
      ]
    },
    {
      "cell_type": "markdown",
      "metadata": {
        "id": "g7AcHQ-eaN6J"
      },
      "source": [
        "**Data Structures**"
      ]
    },
    {
      "cell_type": "code",
      "metadata": {
        "id": "UBJ6MBMfaSBH",
        "colab": {
          "base_uri": "https://localhost:8080/",
          "height": 221
        },
        "outputId": "86dbe18c-026d-434a-8d0e-97e963906eee"
      },
      "source": [
        "# Numbers\n",
        "3, 4.5\n",
        "# Strings\n",
        "\"aaa\"\n",
        "'bbb'\n",
        "print(\"aaa\" + 'bbb')\n",
        "variable = 'AbC' \"dEf\"\n",
        "print(variable + \"hello\")\n",
        "print(\"First character: \" + variable[0])\n",
        "print(\"Last character: \" + variable[-1])\n",
        "print(\"Slice \" + variable[:4])\n",
        "print(\"\"\"\n",
        "This spans\n",
        "multiple \n",
        "lines\n",
        "\"\"\")\n",
        "print(\"Repeated: \" + 3 * 'times ')\n",
        "len(variable)\n",
        "\n",
        "# "
      ],
      "execution_count": null,
      "outputs": [
        {
          "output_type": "stream",
          "text": [
            "aaabbb\n",
            "AbCdEfhello\n",
            "First character: A\n",
            "Last character: f\n",
            "Slice AbCd\n",
            "\n",
            "This spans\n",
            "multiple \n",
            "lines\n",
            "\n",
            "Repeated: times times times \n"
          ],
          "name": "stdout"
        },
        {
          "output_type": "execute_result",
          "data": {
            "text/plain": [
              "6"
            ]
          },
          "metadata": {
            "tags": []
          },
          "execution_count": 107
        }
      ]
    },
    {
      "cell_type": "code",
      "metadata": {
        "id": "rUzo9wYkb3iP",
        "colab": {
          "base_uri": "https://localhost:8080/",
          "height": 198
        },
        "outputId": "801c3c66-776b-47bc-d3e2-4efad2c8020d"
      },
      "source": [
        "strings = \"are indexed and cannot be modified\"\n",
        "strings[5] = \"X\"\n"
      ],
      "execution_count": null,
      "outputs": [
        {
          "output_type": "error",
          "ename": "TypeError",
          "evalue": "ignored",
          "traceback": [
            "\u001b[0;31m---------------------------------------------------------------------------\u001b[0m",
            "\u001b[0;31mTypeError\u001b[0m                                 Traceback (most recent call last)",
            "\u001b[0;32m<ipython-input-106-f304f9d1b5e7>\u001b[0m in \u001b[0;36m<module>\u001b[0;34m()\u001b[0m\n\u001b[1;32m      1\u001b[0m \u001b[0mstrings\u001b[0m \u001b[0;34m=\u001b[0m \u001b[0;34m\"are indexed and cannot be modified\"\u001b[0m\u001b[0;34m\u001b[0m\u001b[0;34m\u001b[0m\u001b[0m\n\u001b[0;32m----> 2\u001b[0;31m \u001b[0mstrings\u001b[0m\u001b[0;34m[\u001b[0m\u001b[0;36m5\u001b[0m\u001b[0;34m]\u001b[0m \u001b[0;34m=\u001b[0m \u001b[0;34m\"X\"\u001b[0m\u001b[0;34m\u001b[0m\u001b[0;34m\u001b[0m\u001b[0m\n\u001b[0m\u001b[1;32m      3\u001b[0m \u001b[0mlen\u001b[0m\u001b[0;34m(\u001b[0m\u001b[0mstrings\u001b[0m\u001b[0;34m)\u001b[0m\u001b[0;34m\u001b[0m\u001b[0;34m\u001b[0m\u001b[0m\n",
            "\u001b[0;31mTypeError\u001b[0m: 'str' object does not support item assignment"
          ]
        }
      ]
    },
    {
      "cell_type": "code",
      "metadata": {
        "id": "2er5f3kAcJNI",
        "colab": {
          "base_uri": "https://localhost:8080/",
          "height": 34
        },
        "outputId": "d6dafb73-e9e6-46e6-e855-f3e0c596178b"
      },
      "source": [
        "# Lists\n",
        "# Lists might contain items of \n",
        "# different types, but usually the items all have the same type.\n",
        "\n",
        "squares = [1, 4, 9, 16, 25]\n",
        "squares + [36, 49, 64, 81, 100]\n",
        "squares[0] = -10\n",
        "squares.append(121)\n",
        "squares.count(9)"
      ],
      "execution_count": null,
      "outputs": [
        {
          "output_type": "execute_result",
          "data": {
            "text/plain": [
              "1"
            ]
          },
          "metadata": {
            "tags": []
          },
          "execution_count": 115
        }
      ]
    },
    {
      "cell_type": "code",
      "metadata": {
        "id": "gk8jKFO9dP8f",
        "colab": {
          "base_uri": "https://localhost:8080/",
          "height": 51
        },
        "outputId": "e68f1c87-396b-4dd9-b32f-b9730929439a"
      },
      "source": [
        "squares = list(map(lambda x: x**2, range(10)))\n",
        "print(squares)\n",
        "squares = [x**2 for x in range(10)]\n",
        "print(squares)"
      ],
      "execution_count": null,
      "outputs": [
        {
          "output_type": "stream",
          "text": [
            "[0, 1, 4, 9, 16, 25, 36, 49, 64, 81]\n",
            "[0, 1, 4, 9, 16, 25, 36, 49, 64, 81]\n"
          ],
          "name": "stdout"
        }
      ]
    },
    {
      "cell_type": "code",
      "metadata": {
        "id": "kaHtPbTfdnvI",
        "colab": {
          "base_uri": "https://localhost:8080/",
          "height": 136
        },
        "outputId": "bb78f787-872e-4ed5-f421-d0ed52be2984"
      },
      "source": [
        "# Tuples and Sequences\n",
        "# A tuple consists of a number of values separated by commas\n",
        "# Are INMUTABLE\n",
        "t = \"A\", True, 12\n",
        "print(t)\n",
        "print(t[0])\n",
        "u = t, list(range(5))\n",
        "print(u)\n",
        "\n",
        "# Sets\n",
        "# A set is an unordered collection with no duplicate elements\n",
        "basket = {'apple', 'orange', 'apple', 'pear', 'orange', 'banana'}\n",
        "print(basket)\n",
        "print('orange' in basket)\n",
        "print('crabgrass' in basket)\n",
        "# To create an empty set, do it like: a = set(), not a = {}, which creates a Dict\n",
        "a = set()\n",
        "b = set('BlaBlaBla')\n",
        "print(b)\n"
      ],
      "execution_count": null,
      "outputs": [
        {
          "output_type": "stream",
          "text": [
            "('A', True, 12)\n",
            "A\n",
            "(('A', True, 12), [0, 1, 2, 3, 4])\n",
            "{'pear', 'apple', 'orange', 'banana'}\n",
            "True\n",
            "False\n",
            "{'a', 'B', 'l'}\n"
          ],
          "name": "stdout"
        }
      ]
    },
    {
      "cell_type": "code",
      "metadata": {
        "id": "OJUraJzdfmNt",
        "colab": {
          "base_uri": "https://localhost:8080/",
          "height": 102
        },
        "outputId": "b527b39f-cc02-4631-8734-239216e0b55a"
      },
      "source": [
        "# Dictionaries\n",
        "# dictionaries are indexed by keys\n",
        "# It is best to think of a dictionary as a set of key: value pairs\n",
        "# with the requirement that the keys are unique\n",
        "\n",
        "tel = {\n",
        "    'joao': 1234,\n",
        "    'jack': 5678,\n",
        "    'vale': 0000\n",
        "}\n",
        "print(tel['jack'])\n",
        "tel['juan'] = 1111\n",
        "print(tel)\n",
        "del(tel['vale'])\n",
        "print(tel)\n",
        "\n",
        "# Returns a list of all the keys in insertion order\n",
        "print(list(tel))\n",
        "\n",
        "# Returns a list of all the keys in sorted order\n",
        "print(sorted(tel))"
      ],
      "execution_count": null,
      "outputs": [
        {
          "output_type": "stream",
          "text": [
            "5678\n",
            "{'joao': 1234, 'jack': 5678, 'vale': 0, 'juan': 1111}\n",
            "{'joao': 1234, 'jack': 5678, 'juan': 1111}\n",
            "['joao', 'jack', 'juan']\n",
            "['jack', 'joao', 'juan']\n"
          ],
          "name": "stdout"
        }
      ]
    },
    {
      "cell_type": "code",
      "metadata": {
        "id": "6ZYbfc_Yg4cI"
      },
      "source": [
        "Looping Techniques through dictionaries"
      ],
      "execution_count": null,
      "outputs": []
    },
    {
      "cell_type": "code",
      "metadata": {
        "id": "jBmUrXikg9Qt",
        "colab": {
          "base_uri": "https://localhost:8080/",
          "height": 102
        },
        "outputId": "5aec2649-2b00-4518-a15f-150e1c28b55e"
      },
      "source": [
        "knights = {'gallahad': 'the pure', 'robin': 'the brave'}\n",
        "for k, v in knights.items():\n",
        "  print(k,v)\n",
        "\n",
        "questions = ['name', 'quest', 'favorite color']\n",
        "answers = ['lancelot', 'the holy grail', 'blue']\n",
        "for q, a in zip(questions, answers):\n",
        "  print('What is your {0}? It is {1}'.format(q, a))"
      ],
      "execution_count": null,
      "outputs": [
        {
          "output_type": "stream",
          "text": [
            "gallahad the pure\n",
            "robin the brave\n",
            "What is your name? It is lancelot\n",
            "What is your quest? It is the holy grail\n",
            "What is your favorite color? It is blue\n"
          ],
          "name": "stdout"
        }
      ]
    },
    {
      "cell_type": "markdown",
      "metadata": {
        "id": "KsRIJBcfh56q"
      },
      "source": [
        "**Input ans Output**"
      ]
    },
    {
      "cell_type": "code",
      "metadata": {
        "id": "oW2Lp_wDh8oj",
        "colab": {
          "base_uri": "https://localhost:8080/",
          "height": 35
        },
        "outputId": "40251e1f-3465-43fe-c970-791dab0cc66f"
      },
      "source": [
        "year = 2016\n",
        "event = 'Referendum'\n",
        "f'Results of the {year} {event}'"
      ],
      "execution_count": null,
      "outputs": [
        {
          "output_type": "execute_result",
          "data": {
            "application/vnd.google.colaboratory.intrinsic+json": {
              "type": "string"
            },
            "text/plain": [
              "'Results of the 2016 Referendum'"
            ]
          },
          "metadata": {
            "tags": []
          },
          "execution_count": 150
        }
      ]
    },
    {
      "cell_type": "code",
      "metadata": {
        "id": "c3Fp3zjRiTUa",
        "colab": {
          "base_uri": "https://localhost:8080/",
          "height": 35
        },
        "outputId": "602a95bc-7e00-4d5f-b8f4-3523b8f19413"
      },
      "source": [
        "yes_votes = 42_572_654\n",
        "no_votes = 43_132_495\n",
        "percentage = yes_votes / (yes_votes + no_votes)\n",
        "'{:} YES votes {:2.2%}'.format(yes_votes, percentage)"
      ],
      "execution_count": null,
      "outputs": [
        {
          "output_type": "execute_result",
          "data": {
            "application/vnd.google.colaboratory.intrinsic+json": {
              "type": "string"
            },
            "text/plain": [
              "'42572654 YES votes 49.67%'"
            ]
          },
          "metadata": {
            "tags": []
          },
          "execution_count": 156
        }
      ]
    },
    {
      "cell_type": "code",
      "metadata": {
        "id": "EyPm2pyElQni"
      },
      "source": [
        "import math\n",
        "import json"
      ],
      "execution_count": null,
      "outputs": []
    },
    {
      "cell_type": "code",
      "metadata": {
        "id": "3rdfkrhPlS_M",
        "colab": {
          "base_uri": "https://localhost:8080/",
          "height": 34
        },
        "outputId": "4faf1403-0bf3-423d-963e-d3d3a0f117e8"
      },
      "source": [
        "print(f'The value of pi is approximately {math.pi:.3f}.')"
      ],
      "execution_count": null,
      "outputs": [
        {
          "output_type": "stream",
          "text": [
            "The value of pi is approximately 3.142.\n"
          ],
          "name": "stdout"
        }
      ]
    },
    {
      "cell_type": "code",
      "metadata": {
        "id": "dIg4zxuumAHV",
        "colab": {
          "base_uri": "https://localhost:8080/",
          "height": 35
        },
        "outputId": "bd12ac10-ddee-4b89-e73d-22f6f416ed02"
      },
      "source": [
        "json.dumps([1,\"simple\",'list'])"
      ],
      "execution_count": null,
      "outputs": [
        {
          "output_type": "execute_result",
          "data": {
            "application/vnd.google.colaboratory.intrinsic+json": {
              "type": "string"
            },
            "text/plain": [
              "'[1, \"simple\", \"list\"]'"
            ]
          },
          "metadata": {
            "tags": []
          },
          "execution_count": 4
        }
      ]
    },
    {
      "cell_type": "code",
      "metadata": {
        "id": "cLVtDPB9mMSQ",
        "colab": {
          "base_uri": "https://localhost:8080/",
          "height": 188
        },
        "outputId": "54310080-e867-4cf6-b299-be333fb8036e"
      },
      "source": [
        "university = {\n",
        "    'humans': {\n",
        "        'professors': {\n",
        "                    'engineering': ['aerospace','civil','naval','telcom'],\n",
        "                    'social': ['philosophy','sociology'],\n",
        "                    'arts':[{\n",
        "                              'joao1': {\n",
        "                                        'age':'30',\n",
        "                                        'profession':'physicist'\n",
        "                                    }, \n",
        "                              'marc1': {\n",
        "                                        'age':'30',\n",
        "                                        'profession':'physicist'\n",
        "                                    }},\n",
        "                            {\n",
        "                              'joao2': {\n",
        "                                        'age':'30',\n",
        "                                        'profession':'physicist'\n",
        "                                    }, \n",
        "                              'marc2': {\n",
        "                                        'age':'30',\n",
        "                                        'profession':'physicist'\n",
        "                                    }},\n",
        "                            {\n",
        "                              'joao3': {\n",
        "                                        'age':'30',\n",
        "                                        'profession':'physicist'\n",
        "                                    }, \n",
        "                              'marc3': {\n",
        "                                        'age':'30',\n",
        "                                        'profession':'physicist'\n",
        "                                    }}]\n",
        "        },\n",
        "        'students': {\n",
        "            'joao': {\n",
        "                'age':'30',\n",
        "                'profession':'physicist'\n",
        "            },\n",
        "            'marc': {\n",
        "                'age':'30',\n",
        "                'profession':'physicist'\n",
        "            },\n",
        "            'juan': {\n",
        "                'age':'30',\n",
        "                'profession':'physicist'\n",
        "            },\n",
        "            'luis': {\n",
        "                'age':'30',\n",
        "                'profession':'physicist'\n",
        "            }\n",
        "        }\n",
        "    },\n",
        "    'degrees': {\n",
        "        'engineering': ['aerospace','civil','naval','telcom'],\n",
        "        'social': ['philosophy','sociology'],\n",
        "        'arts':['pictures','sculpture']\n",
        "    }\n",
        "}\n",
        "json.dumps(university)"
      ],
      "execution_count": null,
      "outputs": [
        {
          "output_type": "execute_result",
          "data": {
            "application/vnd.google.colaboratory.intrinsic+json": {
              "type": "string"
            },
            "text/plain": [
              "'{\"humans\": {\"professors\": {\"engineering\": [\"aerospace\", \"civil\", \"naval\", \"telcom\"], \"social\": [\"philosophy\", \"sociology\"], \"arts\": [{\"joao1\": {\"age\": \"30\", \"profession\": \"physicist\"}, \"marc1\": {\"age\": \"30\", \"profession\": \"physicist\"}}, {\"joao2\": {\"age\": \"30\", \"profession\": \"physicist\"}, \"marc2\": {\"age\": \"30\", \"profession\": \"physicist\"}}, {\"joao3\": {\"age\": \"30\", \"profession\": \"physicist\"}, \"marc3\": {\"age\": \"30\", \"profession\": \"physicist\"}}]}, \"students\": {\"joao\": {\"age\": \"30\", \"profession\": \"physicist\"}, \"marc\": {\"age\": \"30\", \"profession\": \"physicist\"}, \"juan\": {\"age\": \"30\", \"profession\": \"physicist\"}, \"luis\": {\"age\": \"30\", \"profession\": \"physicist\"}}}, \"degrees\": {\"engineering\": [\"aerospace\", \"civil\", \"naval\", \"telcom\"], \"social\": [\"philosophy\", \"sociology\"], \"arts\": [\"pictures\", \"sculpture\"]}}'"
            ]
          },
          "metadata": {
            "tags": []
          },
          "execution_count": 31
        }
      ]
    },
    {
      "cell_type": "code",
      "metadata": {
        "id": "38qbXjGhpYaC",
        "colab": {
          "base_uri": "https://localhost:8080/",
          "height": 35
        },
        "outputId": "abbed75e-a2f3-4c98-b4c9-fe568206b080"
      },
      "source": [
        "university['humans']['students']['joao']['profession']"
      ],
      "execution_count": null,
      "outputs": [
        {
          "output_type": "execute_result",
          "data": {
            "application/vnd.google.colaboratory.intrinsic+json": {
              "type": "string"
            },
            "text/plain": [
              "'physicist'"
            ]
          },
          "metadata": {
            "tags": []
          },
          "execution_count": 32
        }
      ]
    },
    {
      "cell_type": "code",
      "metadata": {
        "id": "nyZb-UhSpuu-",
        "colab": {
          "base_uri": "https://localhost:8080/",
          "height": 85
        },
        "outputId": "971ddba9-cf58-4cb9-b516-fac73ea81f7a"
      },
      "source": [
        "for student, data in university['humans']['students'].items():\n",
        "  print(student, ' -> age:', data['age'], ' -> profession:', data['profession'])"
      ],
      "execution_count": null,
      "outputs": [
        {
          "output_type": "stream",
          "text": [
            "joao  -> age: 30  -> profession: physicist\n",
            "marc  -> age: 30  -> profession: physicist\n",
            "juan  -> age: 30  -> profession: physicist\n",
            "luis  -> age: 30  -> profession: physicist\n"
          ],
          "name": "stdout"
        }
      ]
    },
    {
      "cell_type": "code",
      "metadata": {
        "id": "qmLZzt2jq-Cm",
        "colab": {
          "base_uri": "https://localhost:8080/",
          "height": 170
        },
        "outputId": "2acc7866-583c-47f6-ba60-3acc1a8d4308"
      },
      "source": [
        "for index in university['humans']['professors']['arts']:\n",
        "  for prof, details in index.items():\n",
        "    print(prof, details)\n",
        "  print('---')"
      ],
      "execution_count": null,
      "outputs": [
        {
          "output_type": "stream",
          "text": [
            "joao1 {'age': '30', 'profession': 'physicist'}\n",
            "marc1 {'age': '30', 'profession': 'physicist'}\n",
            "---\n",
            "joao2 {'age': '30', 'profession': 'physicist'}\n",
            "marc2 {'age': '30', 'profession': 'physicist'}\n",
            "---\n",
            "joao3 {'age': '30', 'profession': 'physicist'}\n",
            "marc3 {'age': '30', 'profession': 'physicist'}\n",
            "---\n"
          ],
          "name": "stdout"
        }
      ]
    }
  ]
}